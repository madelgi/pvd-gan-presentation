{
 "cells": [
  {
   "cell_type": "markdown",
   "metadata": {
    "colab_type": "text",
    "id": "view-in-github"
   },
   "source": [
    "<a href=\"https://colab.research.google.com/github/madelgi/pvd-gan-presentation/blob/master/notebooks/gan_presentation.ipynb\" target=\"_parent\"><img src=\"https://colab.research.google.com/assets/colab-badge.svg\" alt=\"Open In Colab\"/></a>"
   ]
  },
  {
   "cell_type": "markdown",
   "metadata": {
    "colab_type": "text",
    "id": "ugpZ-CISvCn1"
   },
   "source": [
    "# An Introduction to Generative Adversarial Networks\n",
    "\n",
    "A generative adversarial network (GAN) is a generative machine learning system developed in 2014, with numerous applications in both supervised and unsupervised contexts. Many of the impressive breakthroughs in generative modeling (e.g., [ThisPersonDoesNotExist.com](https://ThisPersonDoesNotExist.com)) use a GAN-based system behind the scenes. By the end of this talk, I hope to cover:\n",
    "\n",
    "1. What is a generative model?\n",
    "2. How do GANs work (in broad strokes)?\n",
    "3. How would you go about building a simple GAN?\n",
    "4. What are some examples of the current state-of-the-art in GANs?\n"
   ]
  },
  {
   "cell_type": "markdown",
   "metadata": {
    "colab_type": "text",
    "heading_collapsed": true,
    "id": "eanV_NYE08NG"
   },
   "source": [
    "## Preliminaries "
   ]
  },
  {
   "cell_type": "markdown",
   "metadata": {
    "colab_type": "text",
    "hidden": true,
    "id": "SDaLqoft0_OY"
   },
   "source": [
    "### Generative vs. Discriminative Models\n",
    "\n",
    "Broadly, statistical models can be grouped into two categories:\n",
    "\n",
    "1. **Discriminative**: A discriminative model learns the boundary between classes. Mathematically, we are learning the *conditional* probability distribution $P(Y|X)$.\n",
    "2. **Generative**: A generative model learns how the data is actually distributed, rather than just the boundaries between different classes. Mathematically, this is equivalent to learning the *joint* probability distribution $P(X, Y)$."
   ]
  },
  {
   "cell_type": "markdown",
   "metadata": {
    "colab_type": "text",
    "hidden": true,
    "id": "Dczl9T_oB1rL"
   },
   "source": [
    "Consider the example [here][1]\n",
    "\n",
    "[1]: <https://stackoverflow.com/questions/879432/what-is-the-difference-between-a-generative-and-a-discriminative-algorithm>"
   ]
  },
  {
   "cell_type": "markdown",
   "metadata": {
    "colab_type": "text",
    "hidden": true,
    "id": "2DvZ80UR054j"
   },
   "source": [
    "### Neural networks \n",
    "\n",
    "TODO this section can be as long or as short as needed. Ideally it would be short, so we can focus more on GANs themselves"
   ]
  },
  {
   "cell_type": "markdown",
   "metadata": {
    "colab_type": "text",
    "heading_collapsed": true,
    "id": "Mqr0v0CJ1XYE"
   },
   "source": [
    "## How Do GANs Work?\n",
    "\n",
    "GANs consists of both a generative and discriminative component.\n"
   ]
  },
  {
   "cell_type": "markdown",
   "metadata": {
    "colab_type": "text",
    "heading_collapsed": true,
    "id": "sUzAF45w1aGi"
   },
   "source": [
    "## Building a Simple GAN (and Training Pitfalls)\n",
    "\n",
    "In this section, we lay out the architecture of a very simple GAN, and explore some of the training difficulties that arise with GANs. We are going to be following [this](https://blog.paperspace.com/implementing-gans-in-tensorflow/) tutorial, but our implementation will be in Keras.\n"
   ]
  },
  {
   "cell_type": "markdown",
   "metadata": {
    "colab_type": "text",
    "hidden": true,
    "id": "KiSCw2UG3Ecx"
   },
   "source": [
    "### Architecture\n",
    "\n",
    "As discussed previously, our GAN consists of two components: the generator and discriminator. The generator is responsible for "
   ]
  },
  {
   "cell_type": "markdown",
   "metadata": {
    "colab_type": "text",
    "hidden": true,
    "id": "QNL_jTHu3YPB"
   },
   "source": [
    "### Training: Initial Attempt and Results\n",
    "\n"
   ]
  },
  {
   "cell_type": "markdown",
   "metadata": {
    "colab_type": "text",
    "hidden": true,
    "id": "m727oDkm3bxC"
   },
   "source": [
    "\n",
    "\n",
    "### Optimization Techniques"
   ]
  },
  {
   "cell_type": "markdown",
   "metadata": {
    "colab_type": "text",
    "heading_collapsed": true,
    "id": "X61nL6zU4f5U"
   },
   "source": [
    "## Current State of the Art\n"
   ]
  }
 ],
 "metadata": {
  "colab": {
   "authorship_tag": "ABX9TyPc/6HzNb43+YHbYB7Zzx0X",
   "include_colab_link": true,
   "name": "gan-presentation.ipynb",
   "provenance": [],
   "toc_visible": true
  },
  "kernelspec": {
   "display_name": "Python 3",
   "language": "python",
   "name": "python3"
  },
  "language_info": {
   "codemirror_mode": {
    "name": "ipython",
    "version": 3
   },
   "file_extension": ".py",
   "mimetype": "text/x-python",
   "name": "python",
   "nbconvert_exporter": "python",
   "pygments_lexer": "ipython3",
   "version": "3.7.6"
  }
 },
 "nbformat": 4,
 "nbformat_minor": 1
}
