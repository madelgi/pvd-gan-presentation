{
 "cells": [
  {
   "cell_type": "markdown",
   "metadata": {
    "colab_type": "text",
    "id": "view-in-github"
   },
   "source": [
    "<a href=\"https://colab.research.google.com/github/madelgi/pvd-gan-presentation/blob/master/notebooks/gan_presentation.ipynb\" target=\"_parent\"><img src=\"https://colab.research.google.com/assets/colab-badge.svg\" alt=\"Open In Colab\"/></a>"
   ]
  },
  {
   "cell_type": "code",
   "execution_count": 1,
   "metadata": {},
   "outputs": [],
   "source": [
    "%load_ext autoreload\n",
    "%autoreload 2\n",
    "%matplotlib inline"
   ]
  },
  {
   "cell_type": "markdown",
   "metadata": {
    "colab_type": "text",
    "id": "ugpZ-CISvCn1"
   },
   "source": [
    "# An Introduction to Generative Adversarial Networks\n",
    "\n",
    "A generative adversarial network (GAN) is a generative machine learning system developed in 2014, with numerous applications in both supervised and unsupervised contexts. Many of the impressive breakthroughs in generative modeling (e.g., [ThisPersonDoesNotExist.com](https://ThisPersonDoesNotExist.com)) use a GAN-based system behind the scenes. By the end of this talk, I hope to cover:\n",
    "\n",
    "1. What is a generative model?\n",
    "2. How do GANs work (in broad strokes)?\n",
    "3. How would you go about building a simple GAN?\n",
    "4. What are some examples of the current state-of-the-art in GANs?\n",
    "\n",
    "**Note**: Because we have a wide range of skill levels in this group, from hobbyists to Ph.D.'s in statistics, my goal isn't to get bogged down in theoretical or engineering details. I want to provide a birds-eye view of what GANs do and how they function. For folks interested in diving deeper, I've sprinkled some exercises throughout the write-up, and I've compiled links to papers and other resources at the end of the notebook.\n"
   ]
  },
  {
   "cell_type": "markdown",
   "metadata": {
    "colab_type": "text",
    "id": "eanV_NYE08NG"
   },
   "source": [
    "## Preliminaries "
   ]
  },
  {
   "cell_type": "markdown",
   "metadata": {
    "colab_type": "text",
    "id": "SDaLqoft0_OY"
   },
   "source": [
    "### Generative vs. Discriminative Models\n",
    "\n",
    "Broadly, statistical models can be grouped into two categories:\n",
    "\n",
    "1. **Discriminative**: A discriminative model learns the boundary between classes. Mathematically, we are learning the *conditional* probability distribution $P(Y|X)$.\n",
    "2. **Generative**: A generative model learns how the data is actually distributed, rather than just the boundaries between different classes. Mathematically, this is equivalent to learning the *joint* probability distribution $P(X, Y)$.\n",
    "  - A generative model can be transformed into a discriminative model (i.e., used for classification) via Bayes' rule. \n",
    "\n",
    "\n",
    "- **Example 1**: Consider a dataset of images of 0's and 1's, and you want to categorize each image as either a 0 or 1. A discriminative model can tell you whether something is a 0 or a 1, but it can't do anything else. A generative model actually understands what 0's and 1's look like, and it can generate new pictures that appear to be 0's or 1's (hence the \"generative\" in the name). A generative model goes through a slightly less direct process to categorize an image -- it asks, \"based on this data model I have, which class (0 or 1) is more likely to produce this image?\"  \n",
    "\n",
    "![generative_v_discriminative](static/generative_v_discriminative.png)\n",
    "\n",
    "\n",
    "- **Example 2** ([source](https://stackoverflow.com/questions/879432/what-is-the-difference-between-a-generative-and-a-discriminative-algorithm)): Suppose you have the following data:\n",
    "  \n",
    "  `(1, 0), (1, 0), (2, 0), (2, 1)`\n",
    "  \n",
    "  Then a generative model would learn the following probability distribution `p(x, y)`:\n",
    "  \n",
    "  ```\n",
    "        y=0   y=1\n",
    "        ----------\n",
    "  x=1 | 1/2   0\n",
    "  x=2 | 1/4   1/4\n",
    "  ```\n",
    "  \n",
    "  A discriminative model would learn the following probability distribution `p(y|x)`\n",
    "  \n",
    "  ```\n",
    "        y=0   y=1\n",
    "        ----------\n",
    "  x=1 | 1     0\n",
    "  x=2 | 1/2   1/2\n",
    "  ```\n",
    "  \n",
    "    - **Exercise**: Consider what each distribution would look like if we added 16 more `(1, 0)` points to our dataset.\n",
    "    - **Exercise**: Think about how you can go from the model `p(x, y)` to `p(y|x)` (read about Bayes' rule). Can you go in the other direction, from `p(y|x)` to `p(x, y)`? Why or why not?\n",
    "    \n",
    "- **Which model should I use?**: If you need to generate new data, a generative model is likely the best choice! If you are classifying data, in most situations a discriminative model will produce better results than a generative model. At a high level, this is because the generative model is trying to solve a harder problem (what is the shape of the underlying data distribution) vs. the discriminative model, which is directly trying to solve the issue of classification.\n",
    "    - **Note**: Reality is slightly more nuanced: [Ng and Jordan](http://papers.nips.cc/paper/2020-on-discriminative-vs-generative-classifiers-a-comparison-of-logistic-regression-and-naive-bayes.pdf) found that, while discriminative models usually outperform generative models for the purposes of classification, in a scenario with limited training data, a generative model may outperform a discriminative model. In their words, \"While discriminative learning has lower [...] error, a generative classifier may also approach its (higher) [...] error much faster\" (i.e., the learning algorithm will converge faster).\n",
    "\n"
   ]
  },
  {
   "cell_type": "markdown",
   "metadata": {
    "colab_type": "text",
    "id": "2DvZ80UR054j"
   },
   "source": [
    "### Neural networks \n",
    "\n",
    "TODO this section can be as long or as short as needed. Ideally it would be short, so we can focus more on GANs themselves"
   ]
  },
  {
   "cell_type": "markdown",
   "metadata": {
    "colab_type": "text",
    "id": "Mqr0v0CJ1XYE"
   },
   "source": [
    "## How Do GANs Work?\n",
    "\n",
    "After all of those preliminaries, we are ready to talk about GANs. Here is a cartoon of a GAN:\n",
    "\n",
    "![simple_gan](static/simple_gan_diagram.png)\n",
    "\n",
    "- A GAN is a _system_ of two neural networks, a _Generator_ and _Discriminator_.\n",
    "- The generator takes as input some sort of random noise (you can just think of this as a seed value, i.e., don't worry about it too much) and outputs some generated data. This generated data is supposed to \"spoof\" some real data distribution. In the diagram above, our underlying data distribution is pictures of cats. \n",
    "- The discriminator takes in images from our real data distribution along with our \"spoofed\" data, and tries to distinguish between the two. In other words, the discriminator solves a binary classification problem where the two possible classes are \"real cat\" and \"fake cat\"."
   ]
  },
  {
   "cell_type": "markdown",
   "metadata": {},
   "source": [
    "### Training Process\n",
    "\n",
    "GANs play a game with one another. The generator is responsible for creating data that is supposed to look like data from some other distribution (e.g., images of cats). The discriminator is responsible for distinguishing between real and generated images.\n",
    "\n",
    "The diagram below is a more detailed version of the diagram earlier in this section, with some expository detail surrounding the training process:\n",
    "\n",
    "![gan_training](static/gan_training.png)"
   ]
  },
  {
   "cell_type": "markdown",
   "metadata": {},
   "source": [
    "**Quick notes:**\n",
    "\n",
    "- Again, the generator and discriminator are both neural networks. They can be incredibly complex, but the above image abstracts that complexity away to focus on the overall training scheme.\n",
    "- The generator takes as inputs random values pulled from a normal distribution centered at 0, $z\\sim N(0,1)$. You can think of this as a seed value. Depending on the problem-type, the input may be more meaningful. E.g., if we were building a GAN to do super-resolution, the input would be a low-resolution image. \n",
    "- We represent the neural networks in functional notation, $G$ and $D$:\n",
    "\\begin{align}\n",
    "G: X\\mapsto Y, \\quad\\quad D: Y\\mapsto \\{0, 1\\}\n",
    "\\end{align}\n",
    "  $G$ maps values from some input distribution (in this case, $X=N(0,1)$) to some output distribution $Y$ -- in our cat example above, $Y$ might be the space of $32\\times 32$ images. The discriminator takes values from $Y$, and tries to determine whether the value comes from our real dataset, or if it has been created by the generator. In the cat image example, if our generator solely produces images of all black pixels, then our discriminator will have a pretty easy time distinguishing those from real cat pictures."
   ]
  },
  {
   "cell_type": "markdown",
   "metadata": {
    "colab_type": "text",
    "id": "sUzAF45w1aGi"
   },
   "source": [
    "## Building a Simple GAN (and Training Pitfalls)\n",
    "\n",
    "In this section, we lay out the architecture of a very simple GAN, and explore some of the training difficulties that arise with GANs. We are going to be following [this](https://blog.paperspace.com/implementing-gans-in-tensorflow/) tutorial, but our implementation will be in Keras."
   ]
  },
  {
   "cell_type": "code",
   "execution_count": 2,
   "metadata": {},
   "outputs": [
    {
     "name": "stderr",
     "output_type": "stream",
     "text": [
      "Using TensorFlow backend.\n",
      "/home/max/.local/lib/python3.7/site-packages/requests/__init__.py:91: RequestsDependencyWarning: urllib3 (1.25.8) or chardet (3.0.4) doesn't match a supported version!\n",
      "  RequestsDependencyWarning)\n"
     ]
    },
    {
     "ename": "SyntaxError",
     "evalue": "invalid syntax (train.py, line 23)",
     "output_type": "error",
     "traceback": [
      "Traceback \u001b[0;36m(most recent call last)\u001b[0m:\n",
      "  File \u001b[1;32m\"/home/max/anaconda3/envs/pvd-gan/lib/python3.7/site-packages/IPython/core/interactiveshell.py\"\u001b[0m, line \u001b[1;32m3331\u001b[0m, in \u001b[1;35mrun_code\u001b[0m\n    exec(code_obj, self.user_global_ns, self.user_ns)\n",
      "  File \u001b[1;32m\"<ipython-input-2-d85e742cad76>\"\u001b[0m, line \u001b[1;32m2\u001b[0m, in \u001b[1;35m<module>\u001b[0m\n    import pvd_gan_presentation as pvd\n",
      "\u001b[0;36m  File \u001b[0;32m\"/home/max/projects/pvd-gan-presentation/src/pvd_gan_presentation/__init__.py\"\u001b[0;36m, line \u001b[0;32m23\u001b[0;36m, in \u001b[0;35m<module>\u001b[0;36m\u001b[0m\n\u001b[0;31m    from .train import (\u001b[0m\n",
      "\u001b[0;36m  File \u001b[0;32m\"/home/max/projects/pvd-gan-presentation/src/pvd_gan_presentation/train.py\"\u001b[0;36m, line \u001b[0;32m23\u001b[0m\n\u001b[0;31m    'kstep': 5,\u001b[0m\n\u001b[0m           ^\u001b[0m\n\u001b[0;31mSyntaxError\u001b[0m\u001b[0;31m:\u001b[0m invalid syntax\n"
     ]
    }
   ],
   "source": [
    "import inspect\n",
    "import pvd_gan_presentation as pvd"
   ]
  },
  {
   "cell_type": "markdown",
   "metadata": {},
   "source": [
    "### Problem Statement and Data Set\n",
    "\n",
    "We are going to use "
   ]
  },
  {
   "cell_type": "markdown",
   "metadata": {
    "colab_type": "text",
    "id": "KiSCw2UG3Ecx"
   },
   "source": [
    "### Architecture\n",
    "\n",
    "As discussed previously, our GAN consists of two components: the generator and discriminator. The generator is responsible for generating data, and the discriminator is responsible for differentiating between generated and \"real\" data. Execute the two cells below to view the source code and architecture of each of the models."
   ]
  },
  {
   "cell_type": "code",
   "execution_count": 14,
   "metadata": {},
   "outputs": [],
   "source": [
    "pvd.PVDDiscriminator??"
   ]
  },
  {
   "cell_type": "code",
   "execution_count": 10,
   "metadata": {},
   "outputs": [],
   "source": [
    "pvd.PVDGenerator??"
   ]
  },
  {
   "cell_type": "markdown",
   "metadata": {
    "colab_type": "text",
    "id": "QNL_jTHu3YPB"
   },
   "source": [
    "### Training: Initial Attempt and Results"
   ]
  },
  {
   "cell_type": "code",
   "execution_count": 16,
   "metadata": {},
   "outputs": [
    {
     "data": {
      "image/png": "[encoded data removed]",
      "text/plain": [
       "<Figure size 432x288 with 1 Axes>"
      ]
     },
     "metadata": {
      "needs_background": "light"
     },
     "output_type": "display_data"
    },
    {
     "name": "stderr",
     "output_type": "stream",
     "text": [
      "/home/max/anaconda3/envs/pvd-gan/lib/python3.7/site-packages/keras/engine/training.py:297: UserWarning: Discrepancy between trainable weights and collected trainable weights, did you set `model.trainable` without calling `model.compile` after ?\n",
      "  'Discrepancy between trainable weights and collected trainable'\n",
      "Iteration 0 [D loss: 0.39345186948776245, acc.: 51.953125] [G loss: None]\n",
      "Iteration 100 [D loss: 0.07355420291423798, acc.: 0.0] [G loss: 2.042599678039551]\n",
      "Iteration 200 [D loss: 0.0005733341677114367, acc.: 0.0] [G loss: 6.852892875671387]\n",
      "Iteration 300 [D loss: 3.547575033735484e-07, acc.: 0.0] [G loss: 14.302242279052734]\n",
      "Iteration 400 [D loss: 4.1566825537131535e-09, acc.: 0.0] [G loss: 18.793655395507812]\n",
      "Iteration 500 [D loss: 2.1099559877058027e-09, acc.: 0.0] [G loss: 20.126449584960938]\n",
      "Iteration 600 [D loss: 8.541060636524378e-10, acc.: 0.0] [G loss: 21.07253646850586]\n",
      "Iteration 700 [D loss: 5.404268144104662e-10, acc.: 0.0] [G loss: 21.44860076904297]\n",
      "Iteration 800 [D loss: 2.872685145316467e-10, acc.: 0.0] [G loss: 21.868009567260742]\n",
      "Iteration 900 [D loss: 1.6782746026233752e-10, acc.: 0.0] [G loss: 22.19478988647461]\n",
      "Iteration 1000 [D loss: 1.1075490524703469e-10, acc.: 0.0] [G loss: 22.453006744384766]\n",
      "Iteration 1100 [D loss: 7.121529060905019e-11, acc.: 0.0] [G loss: 22.80759048461914]\n",
      "Iteration 1200 [D loss: 7.945741981041365e-11, acc.: 0.0] [G loss: 22.867782592773438]\n",
      "Iteration 1300 [D loss: 2.005124510873202e-09, acc.: 0.0] [G loss: 22.028583526611328]\n",
      "Iteration 1400 [D loss: 1.6344132713896897e-09, acc.: 0.0] [G loss: 21.84279441833496]\n",
      "Iteration 1500 [D loss: 1.5529662000801636e-09, acc.: 0.0] [G loss: 22.334842681884766]\n",
      "Iteration 1600 [D loss: 1.3503744789034045e-09, acc.: 0.0] [G loss: 22.36004066467285]\n",
      "Iteration 1700 [D loss: 1.1232679231198972e-09, acc.: 0.0] [G loss: 22.848285675048828]\n",
      "Iteration 1800 [D loss: 2.4925963515443073e-09, acc.: 0.0] [G loss: 22.349903106689453]\n",
      "Iteration 1900 [D loss: 3.3975293689536556e-09, acc.: 0.0] [G loss: 22.3957462310791]\n",
      "Iteration 2000 [D loss: 5.047777307254364e-09, acc.: 0.0] [G loss: 21.808422088623047]\n",
      "Iteration 2100 [D loss: 3.223988187528448e-08, acc.: 0.0] [G loss: 21.08048439025879]\n",
      "Iteration 2200 [D loss: 3.2289321097778156e-05, acc.: 0.0] [G loss: 26.692184448242188]\n",
      "Iteration 2300 [D loss: 0.007209364324808121, acc.: 0.5859375] [G loss: 39.40803527832031]\n"
     ]
    },
    {
     "ename": "KeyboardInterrupt",
     "evalue": "",
     "output_type": "error",
     "traceback": [
      "\u001b[0;31m---------------------------------------------------------------------------\u001b[0m",
      "\u001b[0;31mKeyboardInterrupt\u001b[0m                         Traceback (most recent call last)",
      "\u001b[0;32m<ipython-input-16-199c99e8c5af>\u001b[0m in \u001b[0;36m<module>\u001b[0;34m\u001b[0m\n\u001b[1;32m      2\u001b[0m \u001b[0mdisc\u001b[0m \u001b[0;34m=\u001b[0m \u001b[0mpvd\u001b[0m\u001b[0;34m.\u001b[0m\u001b[0mPVDDiscriminator\u001b[0m\u001b[0;34m(\u001b[0m\u001b[0;34m)\u001b[0m\u001b[0;34m\u001b[0m\u001b[0;34m\u001b[0m\u001b[0m\n\u001b[1;32m      3\u001b[0m \u001b[0mtrainer\u001b[0m \u001b[0;34m=\u001b[0m \u001b[0mpvd\u001b[0m\u001b[0;34m.\u001b[0m\u001b[0mPVDGAN\u001b[0m\u001b[0;34m(\u001b[0m\u001b[0mgenerator\u001b[0m\u001b[0;34m=\u001b[0m\u001b[0mgen\u001b[0m\u001b[0;34m,\u001b[0m \u001b[0mdiscriminator\u001b[0m\u001b[0;34m=\u001b[0m\u001b[0mdisc\u001b[0m\u001b[0;34m)\u001b[0m\u001b[0;34m\u001b[0m\u001b[0;34m\u001b[0m\u001b[0m\n\u001b[0;32m----> 4\u001b[0;31m \u001b[0mtrainer\u001b[0m\u001b[0;34m.\u001b[0m\u001b[0mtrain\u001b[0m\u001b[0;34m(\u001b[0m\u001b[0mvisualize\u001b[0m\u001b[0;34m=\u001b[0m\u001b[0;32mTrue\u001b[0m\u001b[0;34m)\u001b[0m\u001b[0;34m\u001b[0m\u001b[0;34m\u001b[0m\u001b[0m\n\u001b[0m",
      "\u001b[0;32m~/projects/pvd-gan-presentation/src/pvd_gan_presentation/train.py\u001b[0m in \u001b[0;36mtrain\u001b[0;34m(self, num_iters, batch_size, visualize)\u001b[0m\n\u001b[1;32m     60\u001b[0m             \u001b[0mX_batch\u001b[0m \u001b[0;34m=\u001b[0m \u001b[0msample_data\u001b[0m\u001b[0;34m(\u001b[0m\u001b[0mnum_pts\u001b[0m\u001b[0;34m=\u001b[0m\u001b[0mbatch_size\u001b[0m\u001b[0;34m)\u001b[0m\u001b[0;34m\u001b[0m\u001b[0;34m\u001b[0m\u001b[0m\n\u001b[1;32m     61\u001b[0m             \u001b[0mZ_batch\u001b[0m \u001b[0;34m=\u001b[0m \u001b[0mnp\u001b[0m\u001b[0;34m.\u001b[0m\u001b[0mrandom\u001b[0m\u001b[0;34m.\u001b[0m\u001b[0muniform\u001b[0m\u001b[0;34m(\u001b[0m\u001b[0;34m-\u001b[0m\u001b[0;36m1\u001b[0m\u001b[0;34m,\u001b[0m \u001b[0;36m1\u001b[0m\u001b[0;34m,\u001b[0m \u001b[0;34m(\u001b[0m\u001b[0mbatch_size\u001b[0m\u001b[0;34m,\u001b[0m \u001b[0mself\u001b[0m\u001b[0;34m.\u001b[0m\u001b[0mg\u001b[0m\u001b[0;34m.\u001b[0m\u001b[0mmp\u001b[0m\u001b[0;34m[\u001b[0m\u001b[0;34m'input_shape'\u001b[0m\u001b[0;34m]\u001b[0m\u001b[0;34m[\u001b[0m\u001b[0;36m0\u001b[0m\u001b[0;34m]\u001b[0m\u001b[0;34m)\u001b[0m\u001b[0;34m)\u001b[0m\u001b[0;34m\u001b[0m\u001b[0;34m\u001b[0m\u001b[0m\n\u001b[0;32m---> 62\u001b[0;31m             \u001b[0mX_fake\u001b[0m \u001b[0;34m=\u001b[0m \u001b[0mself\u001b[0m\u001b[0;34m.\u001b[0m\u001b[0mg\u001b[0m\u001b[0;34m.\u001b[0m\u001b[0mmodel\u001b[0m\u001b[0;34m.\u001b[0m\u001b[0mpredict\u001b[0m\u001b[0;34m(\u001b[0m\u001b[0mZ_batch\u001b[0m\u001b[0;34m)\u001b[0m\u001b[0;34m\u001b[0m\u001b[0;34m\u001b[0m\u001b[0m\n\u001b[0m\u001b[1;32m     63\u001b[0m \u001b[0;34m\u001b[0m\u001b[0m\n\u001b[1;32m     64\u001b[0m             \u001b[0md_loss_real\u001b[0m \u001b[0;34m=\u001b[0m \u001b[0mself\u001b[0m\u001b[0;34m.\u001b[0m\u001b[0md\u001b[0m\u001b[0;34m.\u001b[0m\u001b[0mmodel\u001b[0m\u001b[0;34m.\u001b[0m\u001b[0mtrain_on_batch\u001b[0m\u001b[0;34m(\u001b[0m\u001b[0mX_batch\u001b[0m\u001b[0;34m,\u001b[0m \u001b[0mvalid\u001b[0m\u001b[0;34m)\u001b[0m\u001b[0;34m\u001b[0m\u001b[0;34m\u001b[0m\u001b[0m\n",
      "\u001b[0;32m~/anaconda3/envs/pvd-gan/lib/python3.7/site-packages/keras/engine/training.py\u001b[0m in \u001b[0;36mpredict\u001b[0;34m(self, x, batch_size, verbose, steps, callbacks, max_queue_size, workers, use_multiprocessing)\u001b[0m\n\u001b[1;32m   1460\u001b[0m                                             \u001b[0mverbose\u001b[0m\u001b[0;34m=\u001b[0m\u001b[0mverbose\u001b[0m\u001b[0;34m,\u001b[0m\u001b[0;34m\u001b[0m\u001b[0;34m\u001b[0m\u001b[0m\n\u001b[1;32m   1461\u001b[0m                                             \u001b[0msteps\u001b[0m\u001b[0;34m=\u001b[0m\u001b[0msteps\u001b[0m\u001b[0;34m,\u001b[0m\u001b[0;34m\u001b[0m\u001b[0;34m\u001b[0m\u001b[0m\n\u001b[0;32m-> 1462\u001b[0;31m                                             callbacks=callbacks)\n\u001b[0m\u001b[1;32m   1463\u001b[0m \u001b[0;34m\u001b[0m\u001b[0m\n\u001b[1;32m   1464\u001b[0m     def train_on_batch(self, x, y,\n",
      "\u001b[0;32m~/anaconda3/envs/pvd-gan/lib/python3.7/site-packages/keras/engine/training_arrays.py\u001b[0m in \u001b[0;36mpredict_loop\u001b[0;34m(model, f, ins, batch_size, verbose, steps, callbacks)\u001b[0m\n\u001b[1;32m    322\u001b[0m             \u001b[0mbatch_logs\u001b[0m \u001b[0;34m=\u001b[0m \u001b[0;34m{\u001b[0m\u001b[0;34m'batch'\u001b[0m\u001b[0;34m:\u001b[0m \u001b[0mbatch_index\u001b[0m\u001b[0;34m,\u001b[0m \u001b[0;34m'size'\u001b[0m\u001b[0;34m:\u001b[0m \u001b[0mlen\u001b[0m\u001b[0;34m(\u001b[0m\u001b[0mbatch_ids\u001b[0m\u001b[0;34m)\u001b[0m\u001b[0;34m}\u001b[0m\u001b[0;34m\u001b[0m\u001b[0;34m\u001b[0m\u001b[0m\n\u001b[1;32m    323\u001b[0m             \u001b[0mcallbacks\u001b[0m\u001b[0;34m.\u001b[0m\u001b[0m_call_batch_hook\u001b[0m\u001b[0;34m(\u001b[0m\u001b[0;34m'predict'\u001b[0m\u001b[0;34m,\u001b[0m \u001b[0;34m'begin'\u001b[0m\u001b[0;34m,\u001b[0m \u001b[0mbatch_index\u001b[0m\u001b[0;34m,\u001b[0m \u001b[0mbatch_logs\u001b[0m\u001b[0;34m)\u001b[0m\u001b[0;34m\u001b[0m\u001b[0;34m\u001b[0m\u001b[0m\n\u001b[0;32m--> 324\u001b[0;31m             \u001b[0mbatch_outs\u001b[0m \u001b[0;34m=\u001b[0m \u001b[0mf\u001b[0m\u001b[0;34m(\u001b[0m\u001b[0mins_batch\u001b[0m\u001b[0;34m)\u001b[0m\u001b[0;34m\u001b[0m\u001b[0;34m\u001b[0m\u001b[0m\n\u001b[0m\u001b[1;32m    325\u001b[0m             \u001b[0mbatch_outs\u001b[0m \u001b[0;34m=\u001b[0m \u001b[0mto_list\u001b[0m\u001b[0;34m(\u001b[0m\u001b[0mbatch_outs\u001b[0m\u001b[0;34m)\u001b[0m\u001b[0;34m\u001b[0m\u001b[0;34m\u001b[0m\u001b[0m\n\u001b[1;32m    326\u001b[0m             \u001b[0;32mif\u001b[0m \u001b[0mbatch_index\u001b[0m \u001b[0;34m==\u001b[0m \u001b[0;36m0\u001b[0m\u001b[0;34m:\u001b[0m\u001b[0;34m\u001b[0m\u001b[0;34m\u001b[0m\u001b[0m\n",
      "\u001b[0;32m~/anaconda3/envs/pvd-gan/lib/python3.7/site-packages/tensorflow_core/python/keras/backend.py\u001b[0m in \u001b[0;36m__call__\u001b[0;34m(self, inputs)\u001b[0m\n\u001b[1;32m   3725\u001b[0m         \u001b[0mvalue\u001b[0m \u001b[0;34m=\u001b[0m \u001b[0mmath_ops\u001b[0m\u001b[0;34m.\u001b[0m\u001b[0mcast\u001b[0m\u001b[0;34m(\u001b[0m\u001b[0mvalue\u001b[0m\u001b[0;34m,\u001b[0m \u001b[0mtensor\u001b[0m\u001b[0;34m.\u001b[0m\u001b[0mdtype\u001b[0m\u001b[0;34m)\u001b[0m\u001b[0;34m\u001b[0m\u001b[0;34m\u001b[0m\u001b[0m\n\u001b[1;32m   3726\u001b[0m       \u001b[0mconverted_inputs\u001b[0m\u001b[0;34m.\u001b[0m\u001b[0mappend\u001b[0m\u001b[0;34m(\u001b[0m\u001b[0mvalue\u001b[0m\u001b[0;34m)\u001b[0m\u001b[0;34m\u001b[0m\u001b[0;34m\u001b[0m\u001b[0m\n\u001b[0;32m-> 3727\u001b[0;31m     \u001b[0moutputs\u001b[0m \u001b[0;34m=\u001b[0m \u001b[0mself\u001b[0m\u001b[0;34m.\u001b[0m\u001b[0m_graph_fn\u001b[0m\u001b[0;34m(\u001b[0m\u001b[0;34m*\u001b[0m\u001b[0mconverted_inputs\u001b[0m\u001b[0;34m)\u001b[0m\u001b[0;34m\u001b[0m\u001b[0;34m\u001b[0m\u001b[0m\n\u001b[0m\u001b[1;32m   3728\u001b[0m \u001b[0;34m\u001b[0m\u001b[0m\n\u001b[1;32m   3729\u001b[0m     \u001b[0;31m# EagerTensor.numpy() will often make a copy to ensure memory safety.\u001b[0m\u001b[0;34m\u001b[0m\u001b[0;34m\u001b[0m\u001b[0;34m\u001b[0m\u001b[0m\n",
      "\u001b[0;32m~/anaconda3/envs/pvd-gan/lib/python3.7/site-packages/tensorflow_core/python/eager/function.py\u001b[0m in \u001b[0;36m__call__\u001b[0;34m(self, *args, **kwargs)\u001b[0m\n\u001b[1;32m   1549\u001b[0m       \u001b[0mTypeError\u001b[0m\u001b[0;34m:\u001b[0m \u001b[0mFor\u001b[0m \u001b[0minvalid\u001b[0m \u001b[0mpositional\u001b[0m\u001b[0;34m/\u001b[0m\u001b[0mkeyword\u001b[0m \u001b[0margument\u001b[0m \u001b[0mcombinations\u001b[0m\u001b[0;34m.\u001b[0m\u001b[0;34m\u001b[0m\u001b[0;34m\u001b[0m\u001b[0m\n\u001b[1;32m   1550\u001b[0m     \"\"\"\n\u001b[0;32m-> 1551\u001b[0;31m     \u001b[0;32mreturn\u001b[0m \u001b[0mself\u001b[0m\u001b[0;34m.\u001b[0m\u001b[0m_call_impl\u001b[0m\u001b[0;34m(\u001b[0m\u001b[0margs\u001b[0m\u001b[0;34m,\u001b[0m \u001b[0mkwargs\u001b[0m\u001b[0;34m)\u001b[0m\u001b[0;34m\u001b[0m\u001b[0;34m\u001b[0m\u001b[0m\n\u001b[0m\u001b[1;32m   1552\u001b[0m \u001b[0;34m\u001b[0m\u001b[0m\n\u001b[1;32m   1553\u001b[0m   \u001b[0;32mdef\u001b[0m \u001b[0m_call_impl\u001b[0m\u001b[0;34m(\u001b[0m\u001b[0mself\u001b[0m\u001b[0;34m,\u001b[0m \u001b[0margs\u001b[0m\u001b[0;34m,\u001b[0m \u001b[0mkwargs\u001b[0m\u001b[0;34m,\u001b[0m \u001b[0mcancellation_manager\u001b[0m\u001b[0;34m=\u001b[0m\u001b[0;32mNone\u001b[0m\u001b[0;34m)\u001b[0m\u001b[0;34m:\u001b[0m\u001b[0;34m\u001b[0m\u001b[0;34m\u001b[0m\u001b[0m\n",
      "\u001b[0;32m~/anaconda3/envs/pvd-gan/lib/python3.7/site-packages/tensorflow_core/python/eager/function.py\u001b[0m in \u001b[0;36m_call_impl\u001b[0;34m(self, args, kwargs, cancellation_manager)\u001b[0m\n\u001b[1;32m   1589\u001b[0m       raise TypeError(\"Keyword arguments {} unknown. Expected {}.\".format(\n\u001b[1;32m   1590\u001b[0m           list(kwargs.keys()), list(self._arg_keywords)))\n\u001b[0;32m-> 1591\u001b[0;31m     \u001b[0;32mreturn\u001b[0m \u001b[0mself\u001b[0m\u001b[0;34m.\u001b[0m\u001b[0m_call_flat\u001b[0m\u001b[0;34m(\u001b[0m\u001b[0margs\u001b[0m\u001b[0;34m,\u001b[0m \u001b[0mself\u001b[0m\u001b[0;34m.\u001b[0m\u001b[0mcaptured_inputs\u001b[0m\u001b[0;34m,\u001b[0m \u001b[0mcancellation_manager\u001b[0m\u001b[0;34m)\u001b[0m\u001b[0;34m\u001b[0m\u001b[0;34m\u001b[0m\u001b[0m\n\u001b[0m\u001b[1;32m   1592\u001b[0m \u001b[0;34m\u001b[0m\u001b[0m\n\u001b[1;32m   1593\u001b[0m   \u001b[0;32mdef\u001b[0m \u001b[0m_filtered_call\u001b[0m\u001b[0;34m(\u001b[0m\u001b[0mself\u001b[0m\u001b[0;34m,\u001b[0m \u001b[0margs\u001b[0m\u001b[0;34m,\u001b[0m \u001b[0mkwargs\u001b[0m\u001b[0;34m)\u001b[0m\u001b[0;34m:\u001b[0m\u001b[0;34m\u001b[0m\u001b[0;34m\u001b[0m\u001b[0m\n",
      "\u001b[0;32m~/anaconda3/envs/pvd-gan/lib/python3.7/site-packages/tensorflow_core/python/eager/function.py\u001b[0m in \u001b[0;36m_call_flat\u001b[0;34m(self, args, captured_inputs, cancellation_manager)\u001b[0m\n\u001b[1;32m   1690\u001b[0m       \u001b[0;31m# No tape is watching; skip to running the function.\u001b[0m\u001b[0;34m\u001b[0m\u001b[0;34m\u001b[0m\u001b[0;34m\u001b[0m\u001b[0m\n\u001b[1;32m   1691\u001b[0m       return self._build_call_outputs(self._inference_function.call(\n\u001b[0;32m-> 1692\u001b[0;31m           ctx, args, cancellation_manager=cancellation_manager))\n\u001b[0m\u001b[1;32m   1693\u001b[0m     forward_backward = self._select_forward_and_backward_functions(\n\u001b[1;32m   1694\u001b[0m         \u001b[0margs\u001b[0m\u001b[0;34m,\u001b[0m\u001b[0;34m\u001b[0m\u001b[0;34m\u001b[0m\u001b[0m\n",
      "\u001b[0;32m~/anaconda3/envs/pvd-gan/lib/python3.7/site-packages/tensorflow_core/python/eager/function.py\u001b[0m in \u001b[0;36mcall\u001b[0;34m(self, ctx, args, cancellation_manager)\u001b[0m\n\u001b[1;32m    543\u001b[0m               \u001b[0minputs\u001b[0m\u001b[0;34m=\u001b[0m\u001b[0margs\u001b[0m\u001b[0;34m,\u001b[0m\u001b[0;34m\u001b[0m\u001b[0;34m\u001b[0m\u001b[0m\n\u001b[1;32m    544\u001b[0m               \u001b[0mattrs\u001b[0m\u001b[0;34m=\u001b[0m\u001b[0;34m(\u001b[0m\u001b[0;34m\"executor_type\"\u001b[0m\u001b[0;34m,\u001b[0m \u001b[0mexecutor_type\u001b[0m\u001b[0;34m,\u001b[0m \u001b[0;34m\"config_proto\"\u001b[0m\u001b[0;34m,\u001b[0m \u001b[0mconfig\u001b[0m\u001b[0;34m)\u001b[0m\u001b[0;34m,\u001b[0m\u001b[0;34m\u001b[0m\u001b[0;34m\u001b[0m\u001b[0m\n\u001b[0;32m--> 545\u001b[0;31m               ctx=ctx)\n\u001b[0m\u001b[1;32m    546\u001b[0m         \u001b[0;32melse\u001b[0m\u001b[0;34m:\u001b[0m\u001b[0;34m\u001b[0m\u001b[0;34m\u001b[0m\u001b[0m\n\u001b[1;32m    547\u001b[0m           outputs = execute.execute_with_cancellation(\n",
      "\u001b[0;32m~/anaconda3/envs/pvd-gan/lib/python3.7/site-packages/tensorflow_core/python/eager/execute.py\u001b[0m in \u001b[0;36mquick_execute\u001b[0;34m(op_name, num_outputs, inputs, attrs, ctx, name)\u001b[0m\n\u001b[1;32m     59\u001b[0m     tensors = pywrap_tensorflow.TFE_Py_Execute(ctx._handle, device_name,\n\u001b[1;32m     60\u001b[0m                                                \u001b[0mop_name\u001b[0m\u001b[0;34m,\u001b[0m \u001b[0minputs\u001b[0m\u001b[0;34m,\u001b[0m \u001b[0mattrs\u001b[0m\u001b[0;34m,\u001b[0m\u001b[0;34m\u001b[0m\u001b[0;34m\u001b[0m\u001b[0m\n\u001b[0;32m---> 61\u001b[0;31m                                                num_outputs)\n\u001b[0m\u001b[1;32m     62\u001b[0m   \u001b[0;32mexcept\u001b[0m \u001b[0mcore\u001b[0m\u001b[0;34m.\u001b[0m\u001b[0m_NotOkStatusException\u001b[0m \u001b[0;32mas\u001b[0m \u001b[0me\u001b[0m\u001b[0;34m:\u001b[0m\u001b[0;34m\u001b[0m\u001b[0;34m\u001b[0m\u001b[0m\n\u001b[1;32m     63\u001b[0m     \u001b[0;32mif\u001b[0m \u001b[0mname\u001b[0m \u001b[0;32mis\u001b[0m \u001b[0;32mnot\u001b[0m \u001b[0;32mNone\u001b[0m\u001b[0;34m:\u001b[0m\u001b[0;34m\u001b[0m\u001b[0;34m\u001b[0m\u001b[0m\n",
      "\u001b[0;31mKeyboardInterrupt\u001b[0m: "
     ]
    }
   ],
   "source": [
    "gen = pvd.PVDGenerator()\n",
    "disc = pvd.PVDDiscriminator()\n",
    "trainer = pvd.PVDGAN(generator=gen, discriminator=disc)\n",
    "trainer.train(visualize=True)"
   ]
  },
  {
   "cell_type": "markdown",
   "metadata": {
    "colab_type": "text",
    "id": "m727oDkm3bxC"
   },
   "source": [
    "\n",
    "\n",
    "### Optimization Techniques"
   ]
  },
  {
   "cell_type": "markdown",
   "metadata": {
    "colab_type": "text",
    "id": "X61nL6zU4f5U"
   },
   "source": [
    "## Current State of the Art\n"
   ]
  },
  {
   "cell_type": "markdown",
   "metadata": {},
   "source": [
    "### StyleGAN 2\n",
    "\n",
    "- Example usage: ![ThisPersonDoesNotExist](https://thispersondoesnotexist.com/)\n",
    "- Architecture overview\n",
    "- Training routine"
   ]
  }
 ],
 "metadata": {
  "colab": {
   "authorship_tag": "ABX9TyPc/6HzNb43+YHbYB7Zzx0X",
   "include_colab_link": true,
   "name": "gan-presentation.ipynb",
   "provenance": [],
   "toc_visible": true
  },
  "kernelspec": {
   "display_name": "Python 3",
   "language": "python",
   "name": "python3"
  },
  "language_info": {
   "codemirror_mode": {
    "name": "ipython",
    "version": 3
   },
   "file_extension": ".py",
   "mimetype": "text/x-python",
   "name": "python",
   "nbconvert_exporter": "python",
   "pygments_lexer": "ipython3",
   "version": "3.7.6"
  }
 },
 "nbformat": 4,
 "nbformat_minor": 1
}
