{
  "nbformat": 4,
  "nbformat_minor": 0,
  "metadata": {
    "colab": {
      "name": "gan-presentation.ipynb",
      "provenance": [],
      "toc_visible": true,
      "authorship_tag": "ABX9TyPc/6HzNb43+YHbYB7Zzx0X",
      "include_colab_link": true
    },
    "kernelspec": {
      "name": "python3",
      "display_name": "Python 3"
    }
  },
  "cells": [
    {
      "cell_type": "markdown",
      "metadata": {
        "id": "view-in-github",
        "colab_type": "text"
      },
      "source": [
        "<a href=\"https://colab.research.google.com/github/madelgi/pvd-gan-presentation/blob/master/notebooks/gan_presentation.ipynb\" target=\"_parent\"><img src=\"https://colab.research.google.com/assets/colab-badge.svg\" alt=\"Open In Colab\"/></a>"
      ]
    },
    {
      "cell_type": "markdown",
      "metadata": {
        "id": "ugpZ-CISvCn1",
        "colab_type": "text"
      },
      "source": [
        "# An Introduction to Generative Adversarial Networks\n",
        "\n",
        "A generative adversarial network (GAN) is a generative machine learning system developed in 2014, with numerous applications in both supervised and unsupervised contexts. Many of the impressive breakthroughs in generative modeling (e.g., [ThisPersonDoesNotExist.com](https://ThisPersonDoesNotExist.com)) use a GAN-based system behind the scenes. By the end of this talk, I hope to cover:\n",
        "\n",
        "1. What is a generative model?\n",
        "2. How do GANs work (in broad strokes)?\n",
        "3. How would you go about building a simple GAN?\n",
        "4. What are some examples of the current state-of-the-art in GANs?\n"
      ]
    },
    {
      "cell_type": "markdown",
      "metadata": {
        "id": "eanV_NYE08NG",
        "colab_type": "text"
      },
      "source": [
        "## Preliminaries "
      ]
    },
    {
      "cell_type": "markdown",
      "metadata": {
        "id": "SDaLqoft0_OY",
        "colab_type": "text"
      },
      "source": [
        "### Generative vs. Discriminative Models\n",
        "\n",
        "Broadly, statistical models can be grouped into two categories:\n",
        "\n",
        "1. **Discriminative**: A discriminative model learns the boundary between classes. Mathematically, we are learning the *conditional* probability distribution $P(Y|X)$.\n",
        "2. **Generative**: A generative model learns how the data is actually distributed, rather than just the boundaries between different classes. Mathematically, this is equivalent to learning the *joint* probability distribution $P(X, Y)$."
      ]
    },
    {
      "cell_type": "markdown",
      "metadata": {
        "id": "Dczl9T_oB1rL",
        "colab_type": "text"
      },
      "source": [
        "Consider the example [here][1]\n",
        "\n",
        "[1]: <https://stackoverflow.com/questions/879432/what-is-the-difference-between-a-generative-and-a-discriminative-algorithm>"
      ]
    },
    {
      "cell_type": "markdown",
      "metadata": {
        "id": "2DvZ80UR054j",
        "colab_type": "text"
      },
      "source": [
        "### Neural networks \n",
        "\n",
        "TODO this section can be as long or as short as needed. Ideally it would be short, so we can focus more on GANs themselves"
      ]
    },
    {
      "cell_type": "markdown",
      "metadata": {
        "id": "Mqr0v0CJ1XYE",
        "colab_type": "text"
      },
      "source": [
        "## How Do GANs Work?\n",
        "\n",
        "GANs consists of both a generative and discriminative component.\n"
      ]
    },
    {
      "cell_type": "markdown",
      "metadata": {
        "id": "sUzAF45w1aGi",
        "colab_type": "text"
      },
      "source": [
        "## Building a Simple GAN (and Training Pitfalls)\n",
        "\n",
        "In this section, we lay out the architecture of a very simple GAN, and explore some of the training difficulties that arise with GANs. We are going to be following [this](https://blog.paperspace.com/implementing-gans-in-tensorflow/) tutorial, but our implementation will be in Keras.\n"
      ]
    },
    {
      "cell_type": "markdown",
      "metadata": {
        "id": "KiSCw2UG3Ecx",
        "colab_type": "text"
      },
      "source": [
        "### Architecture\n",
        "\n",
        "As discussed previously, our GAN consists of two components: the generator and discriminator. The generator is responsible for "
      ]
    },
    {
      "cell_type": "markdown",
      "metadata": {
        "id": "QNL_jTHu3YPB",
        "colab_type": "text"
      },
      "source": [
        "### Training: Initial Attempt and Results\n",
        "\n"
      ]
    },
    {
      "cell_type": "markdown",
      "metadata": {
        "id": "m727oDkm3bxC",
        "colab_type": "text"
      },
      "source": [
        "\n",
        "\n",
        "### Optimization Techniques"
      ]
    },
    {
      "cell_type": "markdown",
      "metadata": {
        "id": "X61nL6zU4f5U",
        "colab_type": "text"
      },
      "source": [
        "## Current State of the Art"
      ]
    },
    {
      "cell_type": "markdown",
      "metadata": {
        "id": "KuHfCAyi4sMk",
        "colab_type": "text"
      },
      "source": [
        "## References\n",
        "\n",
        "[1]: https://stackoverflow.com/questions/879432/what-is-the-difference-between-a-generative-and-a-discriminative-algorithm"
      ]
    }
  ]
}